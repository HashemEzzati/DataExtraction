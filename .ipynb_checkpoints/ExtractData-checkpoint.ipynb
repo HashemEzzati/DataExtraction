{
 "cells": [
  {
   "cell_type": "code",
   "execution_count": 29,
   "id": "49b98e14",
   "metadata": {},
   "outputs": [],
   "source": [
    "import pandas as pd\n",
    "import Funpat\n",
    "\n",
    "stocknames = ['S_Mobarakeh.Steel','Arya.Sasol.Polymer']\n",
    "for i in stocknames:\n",
    "    stockpath = 'Stock/'+i+'.csv' \n",
    "    data = pd.read_csv(stockpath)\n",
    "    \n",
    "    break\n",
    "    "
   ]
  },
  {
   "cell_type": "code",
   "execution_count": 30,
   "id": "f9b2f2d6",
   "metadata": {},
   "outputs": [],
   "source": [
    "T=[1,2]"
   ]
  },
  {
   "cell_type": "code",
   "execution_count": 31,
   "id": "b1b8c61b",
   "metadata": {},
   "outputs": [
    {
     "ename": "AttributeError",
     "evalue": "module 'Funpat' has no attribute 'Flen'",
     "output_type": "error",
     "traceback": [
      "\u001b[1;31m---------------------------------------------------------------------------\u001b[0m",
      "\u001b[1;31mAttributeError\u001b[0m                            Traceback (most recent call last)",
      "\u001b[1;32m<ipython-input-31-5272d6a7c0f3>\u001b[0m in \u001b[0;36m<module>\u001b[1;34m\u001b[0m\n\u001b[1;32m----> 1\u001b[1;33m \u001b[0mFunpat\u001b[0m\u001b[1;33m.\u001b[0m\u001b[0mFlen\u001b[0m\u001b[1;33m(\u001b[0m\u001b[0mT\u001b[0m\u001b[1;33m)\u001b[0m\u001b[1;33m\u001b[0m\u001b[1;33m\u001b[0m\u001b[0m\n\u001b[0m",
      "\u001b[1;31mAttributeError\u001b[0m: module 'Funpat' has no attribute 'Flen'"
     ]
    }
   ],
   "source": [
    "Funpat.Flen(T)"
   ]
  },
  {
   "cell_type": "code",
   "execution_count": 32,
   "id": "7581548f",
   "metadata": {},
   "outputs": [
    {
     "data": {
      "text/html": [
       "<div>\n",
       "<style scoped>\n",
       "    .dataframe tbody tr th:only-of-type {\n",
       "        vertical-align: middle;\n",
       "    }\n",
       "\n",
       "    .dataframe tbody tr th {\n",
       "        vertical-align: top;\n",
       "    }\n",
       "\n",
       "    .dataframe thead th {\n",
       "        text-align: right;\n",
       "    }\n",
       "</style>\n",
       "<table border=\"1\" class=\"dataframe\">\n",
       "  <thead>\n",
       "    <tr style=\"text-align: right;\">\n",
       "      <th></th>\n",
       "      <th>&lt;TICKER&gt;</th>\n",
       "      <th>&lt;DTYYYYMMDD&gt;</th>\n",
       "      <th>&lt;FIRST&gt;</th>\n",
       "      <th>&lt;HIGH&gt;</th>\n",
       "      <th>&lt;LOW&gt;</th>\n",
       "      <th>&lt;CLOSE&gt;</th>\n",
       "      <th>&lt;VALUE&gt;</th>\n",
       "      <th>&lt;VOL&gt;</th>\n",
       "      <th>&lt;OPENINT&gt;</th>\n",
       "      <th>&lt;PER&gt;</th>\n",
       "      <th>&lt;OPEN&gt;</th>\n",
       "      <th>&lt;LAST&gt;</th>\n",
       "    </tr>\n",
       "  </thead>\n",
       "  <tbody>\n",
       "    <tr>\n",
       "      <th>0</th>\n",
       "      <td>S*Mobarakeh.Steel</td>\n",
       "      <td>20220813</td>\n",
       "      <td>5520.0</td>\n",
       "      <td>5850.0</td>\n",
       "      <td>5500.0</td>\n",
       "      <td>5780.0</td>\n",
       "      <td>864611493990</td>\n",
       "      <td>149535604</td>\n",
       "      <td>9910</td>\n",
       "      <td>D</td>\n",
       "      <td>5520.0</td>\n",
       "      <td>5810.0</td>\n",
       "    </tr>\n",
       "    <tr>\n",
       "      <th>1</th>\n",
       "      <td>S*Mobarakeh.Steel</td>\n",
       "      <td>20220810</td>\n",
       "      <td>5590.0</td>\n",
       "      <td>5600.0</td>\n",
       "      <td>5480.0</td>\n",
       "      <td>5520.0</td>\n",
       "      <td>542781015750</td>\n",
       "      <td>98255194</td>\n",
       "      <td>8348</td>\n",
       "      <td>D</td>\n",
       "      <td>5460.0</td>\n",
       "      <td>5520.0</td>\n",
       "    </tr>\n",
       "    <tr>\n",
       "      <th>2</th>\n",
       "      <td>S*Mobarakeh.Steel</td>\n",
       "      <td>20220809</td>\n",
       "      <td>5470.0</td>\n",
       "      <td>5500.0</td>\n",
       "      <td>5390.0</td>\n",
       "      <td>5460.0</td>\n",
       "      <td>692060828940</td>\n",
       "      <td>126831611</td>\n",
       "      <td>6913</td>\n",
       "      <td>D</td>\n",
       "      <td>5240.0</td>\n",
       "      <td>5500.0</td>\n",
       "    </tr>\n",
       "    <tr>\n",
       "      <th>3</th>\n",
       "      <td>S*Mobarakeh.Steel</td>\n",
       "      <td>20220731</td>\n",
       "      <td>10830.0</td>\n",
       "      <td>11370.0</td>\n",
       "      <td>10690.0</td>\n",
       "      <td>11170.0</td>\n",
       "      <td>1661850318610</td>\n",
       "      <td>148767350</td>\n",
       "      <td>13410</td>\n",
       "      <td>D</td>\n",
       "      <td>11040.0</td>\n",
       "      <td>11350.0</td>\n",
       "    </tr>\n",
       "    <tr>\n",
       "      <th>4</th>\n",
       "      <td>S*Mobarakeh.Steel</td>\n",
       "      <td>20220730</td>\n",
       "      <td>10980.0</td>\n",
       "      <td>11170.0</td>\n",
       "      <td>10840.0</td>\n",
       "      <td>11040.0</td>\n",
       "      <td>540332728400</td>\n",
       "      <td>48954520</td>\n",
       "      <td>6181</td>\n",
       "      <td>D</td>\n",
       "      <td>10930.0</td>\n",
       "      <td>10890.0</td>\n",
       "    </tr>\n",
       "  </tbody>\n",
       "</table>\n",
       "</div>"
      ],
      "text/plain": [
       "            <TICKER>  <DTYYYYMMDD>  <FIRST>   <HIGH>    <LOW>  <CLOSE>  \\\n",
       "0  S*Mobarakeh.Steel      20220813   5520.0   5850.0   5500.0   5780.0   \n",
       "1  S*Mobarakeh.Steel      20220810   5590.0   5600.0   5480.0   5520.0   \n",
       "2  S*Mobarakeh.Steel      20220809   5470.0   5500.0   5390.0   5460.0   \n",
       "3  S*Mobarakeh.Steel      20220731  10830.0  11370.0  10690.0  11170.0   \n",
       "4  S*Mobarakeh.Steel      20220730  10980.0  11170.0  10840.0  11040.0   \n",
       "\n",
       "         <VALUE>      <VOL>  <OPENINT> <PER>   <OPEN>   <LAST>  \n",
       "0   864611493990  149535604       9910     D   5520.0   5810.0  \n",
       "1   542781015750   98255194       8348     D   5460.0   5520.0  \n",
       "2   692060828940  126831611       6913     D   5240.0   5500.0  \n",
       "3  1661850318610  148767350      13410     D  11040.0  11350.0  \n",
       "4   540332728400   48954520       6181     D  10930.0  10890.0  "
      ]
     },
     "execution_count": 32,
     "metadata": {},
     "output_type": "execute_result"
    }
   ],
   "source": [
    "data.head()"
   ]
  },
  {
   "cell_type": "code",
   "execution_count": 33,
   "id": "4766832c",
   "metadata": {},
   "outputs": [],
   "source": [
    "data = pd.read_csv('GOOG.csv')"
   ]
  },
  {
   "cell_type": "code",
   "execution_count": 40,
   "id": "eabaca67",
   "metadata": {},
   "outputs": [],
   "source": [
    "x = data.loc[0][:]"
   ]
  },
  {
   "cell_type": "code",
   "execution_count": 42,
   "id": "02e445d8",
   "metadata": {},
   "outputs": [
    {
     "data": {
      "text/plain": [
       "272.274445"
      ]
     },
     "execution_count": 42,
     "metadata": {},
     "output_type": "execute_result"
    }
   ],
   "source": [
    "x['Open']"
   ]
  },
  {
   "cell_type": "code",
   "execution_count": null,
   "id": "c7152f41",
   "metadata": {},
   "outputs": [],
   "source": []
  },
  {
   "cell_type": "code",
   "execution_count": null,
   "id": "e65b022c",
   "metadata": {},
   "outputs": [],
   "source": []
  },
  {
   "cell_type": "code",
   "execution_count": null,
   "id": "84ced746",
   "metadata": {},
   "outputs": [],
   "source": []
  }
 ],
 "metadata": {
  "kernelspec": {
   "display_name": "Python 3",
   "language": "python",
   "name": "python3"
  },
  "language_info": {
   "codemirror_mode": {
    "name": "ipython",
    "version": 3
   },
   "file_extension": ".py",
   "mimetype": "text/x-python",
   "name": "python",
   "nbconvert_exporter": "python",
   "pygments_lexer": "ipython3",
   "version": "3.8.8"
  }
 },
 "nbformat": 4,
 "nbformat_minor": 5
}
