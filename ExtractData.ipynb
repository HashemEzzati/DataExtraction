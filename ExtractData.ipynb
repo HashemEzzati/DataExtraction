{
 "cells": [
  {
   "cell_type": "code",
   "execution_count": 1,
   "id": "b5941d4e",
   "metadata": {},
   "outputs": [
    {
     "name": "stderr",
     "output_type": "stream",
     "text": [
      "C:\\Users\\Hashem\\Desktop\\TimeSeriesProjects\\DataExtraction\\Funpat.py:132: RuntimeWarning: divide by zero encountered in double_scalars\n",
      "  if 0.1*p <= ((y-x)/x)*100 < 0.25*p:\n",
      "C:\\Users\\Hashem\\Desktop\\TimeSeriesProjects\\DataExtraction\\Funpat.py:124: RuntimeWarning: divide by zero encountered in double_scalars\n",
      "  if 0.03*p <= ((y-x)/x)*100 < 0.1*p:\n",
      "C:\\Users\\Hashem\\Desktop\\TimeSeriesProjects\\DataExtraction\\Funpat.py:140: RuntimeWarning: divide by zero encountered in double_scalars\n",
      "  if 0.25*p <= ((y-x)/x)*100 < 0.5*p:\n"
     ]
    }
   ],
   "source": [
    "import pandas as pd\n",
    "import Funpat as fp\n",
    "import numpy as np\n",
    "\n",
    "\n",
    "########** Stock names  **########\n",
    "stocknames = ['Arya.Sasol.Polymer','S_Mobarakeh.Steel','Fanavaran.Petr.','Khalij.Fars','Saba.Tamin.Inv.',\n",
    "              'B.A.Oil.Refinie','Gol-E-Gohar.','SI..N..C..Ind.','Tabriz.Oil.Refine','Hormozgan.Co.',\n",
    "              'producing.CHDN','Ghadir.Inv.','Omid.Inv..Mng.','Bank.Melli.Inv.','Iran.Mobil.Tele',\n",
    "              'Iran.Tele..Co.','S_Isf..Oil.Ref.Co.','S_Metals.&.Min.','Palayesh.Tehran','Khouz..Steel',\n",
    "              'S_Mellat.Bank','Iran.Khodro','S_Saipa','Social.Sec.Inv','Minoo.Co.','A..I..S..D.',\n",
    "              'Khoozestan.CE.','Mellat.Leasing','S_Kharazmy.Invest','Chadormalu','SHiWeb','Day.Bank',\n",
    "              'S_Tejarat.Bank','Parsian.Bank','Saderat.Bank','S_Saman.Bank']\n",
    "\n",
    "\n",
    "Candelsize=10\n",
    "k=8\n",
    "n=5\n",
    "p=10\n",
    "\n",
    "########**  Building DataFrame Coulmns **########\n",
    "MyColumns=['Open','High','Low','Close']\n",
    "for z in range(0,Candelsize-1):\n",
    "    for w in range(0,4):\n",
    "        MyColumns.append(MyColumns[w]+str(z+1))\n",
    "MyColumns.append('Label')     \n",
    "\n",
    "########**  Extracted Data(Empty DF) **########\n",
    "ExtractedData=pd.DataFrame(columns=MyColumns)\n",
    "\n",
    "\n",
    "########** Extracting Patterns  **########\n",
    "for i in stocknames:\n",
    "    stockpath = 'Stock/'+i+'.csv' \n",
    "    data = pd.read_csv(stockpath)\n",
    "    data = data.drop(columns=['<TICKER>','<OPENINT>','<PER>','<OPEN>','<LAST>','<VALUE>','<DTYYYYMMDD>','<VOL>'])\n",
    "    data = data.rename(columns={'<FIRST>': 'Open','<HIGH>': 'High','<LOW>': 'Low','<CLOSE>': 'Close'})\n",
    "    for j in range(Candelsize,len(data)-k):\n",
    "        if fp.MarubozuBlack(data.loc[j+k:j+k][:],data.loc[j+k],p)==1:\n",
    "            ExtractedData = ExtractedData.append(pd.DataFrame([np.append(data.loc[j+k-Candelsize+1:j+k].to_numpy().flatten(),np.array([1]))],columns=MyColumns),ignore_index=True)            \n",
    "        if fp.MarubozuWhite(data.loc[j+k:j+k][:],data.loc[j+k],p)==1:\n",
    "            ExtractedData = ExtractedData.append(pd.DataFrame([np.append(data.loc[j+k-Candelsize+1:j+k].to_numpy().flatten(),np.array([2]))],columns=MyColumns),ignore_index=True)                        \n",
    "        if fp.BeltHoldBullish(data.loc[j+k:j+k][:],data.loc[j:j+k-1]['Close'],data.loc[j+k],n,p)==1:\n",
    "            ExtractedData = ExtractedData.append(pd.DataFrame([np.append(data.loc[j+k-Candelsize+1:j+k].to_numpy().flatten(),np.array([3]))],columns=MyColumns),ignore_index=True)                                    \n",
    "        if fp.MarubozuClosingBlack(data.loc[j+k:j+k][:],data.loc[j+k],p)==1:\n",
    "            ExtractedData = ExtractedData.append(pd.DataFrame([np.append(data.loc[j+k-Candelsize+1:j+k].to_numpy().flatten(),np.array([4]))],columns=MyColumns),ignore_index=True)                        \n",
    "        if fp.MarubozuOpeningWhite(data.loc[j+k:j+k][:],data.loc[j+k],p)==1:\n",
    "            ExtractedData = ExtractedData.append(pd.DataFrame([np.append(data.loc[j+k-Candelsize+1:j+k].to_numpy().flatten(),np.array([5]))],columns=MyColumns),ignore_index=True)                        \n",
    "        if fp.ShootingStarOneCandle(data.loc[j+k:j+k][:],data.loc[j:j+k-1]['Close'],data.loc[j+k],n,p)==1:\n",
    "            ExtractedData = ExtractedData.append(pd.DataFrame([np.append(data.loc[j+k-Candelsize+1:j+k].to_numpy().flatten(),np.array([6]))],columns=MyColumns),ignore_index=True)                \n",
    "        if fp.DojiGravestone(data.loc[j+k:j+k][:],data.loc[j+k],p)==1:\n",
    "            ExtractedData = ExtractedData.append(pd.DataFrame([np.append(data.loc[j+k-Candelsize+1:j+k].to_numpy().flatten(),np.array([7]))],columns=MyColumns),ignore_index=True)                        \n",
    "        if fp.BeltHoldBearish(data.loc[j+k:j+k][:],data.loc[j:j+k-1]['Close'],data.loc[j+k],n,p)==1:\n",
    "            ExtractedData = ExtractedData.append(pd.DataFrame([np.append(data.loc[j+k-Candelsize+1:j+k].to_numpy().flatten(),np.array([8]))],columns=MyColumns),ignore_index=True)                                    \n",
    "        if fp.DojiDragonfly(data.loc[j+k:j+k][:],data.loc[j+k],p)==1:\n",
    "            ExtractedData = ExtractedData.append(pd.DataFrame([np.append(data.loc[j+k-Candelsize+1:j+k].to_numpy().flatten(),np.array([9]))],columns=MyColumns),ignore_index=True)                        \n",
    "        if fp.Hammer(data.loc[j+k:j+k][:],data.loc[j:j+k-1]['Close'],data.loc[j+k],n,p)==1:\n",
    "            ExtractedData = ExtractedData.append(pd.DataFrame([np.append(data.loc[j+k-Candelsize+1:j+k].to_numpy().flatten(),np.array([10]))],columns=MyColumns),ignore_index=True)\n",
    "        if fp.HangingMan(data.loc[j+k:j+k][:],data.loc[j:j+k-1]['Close'],data.loc[j+k],n,p)==1:\n",
    "            ExtractedData = ExtractedData.append(pd.DataFrame([np.append(data.loc[j+k-Candelsize+1:j+k].to_numpy().flatten(),np.array([11]))],columns=MyColumns),ignore_index=True)            \n",
    "        if fp.MarubozuOpeningBlack(data.loc[j+k:j+k][:],data.loc[j+k],p)==1:\n",
    "            ExtractedData = ExtractedData.append(pd.DataFrame([np.append(data.loc[j+k-Candelsize+1:j+k].to_numpy().flatten(),np.array([12]))],columns=MyColumns),ignore_index=True)                        \n",
    "        if fp.MarubozuClosingWhite(data.loc[j+k:j+k][:],data.loc[j+k],p)==1:\n",
    "            ExtractedData = ExtractedData.append(pd.DataFrame([np.append(data.loc[j+k-Candelsize+1:j+k].to_numpy().flatten(),np.array([13]))],columns=MyColumns),ignore_index=True)                        \n",
    "        if fp.TakuriLine(data.loc[j+k:j+k][:],data.loc[j:j+k-1]['Close'],data.loc[j+k],n,p)==1:\n",
    "            ExtractedData = ExtractedData.append(pd.DataFrame([np.append(data.loc[j+k-Candelsize+1:j+k].to_numpy().flatten(),np.array([14]))],columns=MyColumns),ignore_index=True)            \n",
    "    for j in range(Candelsize+2,len(data)-k-2):    \n",
    "        if fp.HammerInverted(data.loc[j+k:j+k+1][:],data.loc[j:j+k-1]['Close'],data.loc[j+k],data.loc[j+k+1],n,p)==1:\n",
    "            ExtractedData = ExtractedData.append(pd.DataFrame([np.append(data.loc[j+k-Candelsize+2:j+k+1].to_numpy().flatten(),np.array([15]))],columns=MyColumns),ignore_index=True)            \n",
    "\n",
    "\n",
    "########**  Sorting Extracted Data  **########            \n",
    "ExtractedData = ExtractedData.sort_values(['Label'], ascending=True,ignore_index=True)\n",
    "                        \n",
    "########**  Saving Data Det  **########\n",
    "ExtractedData.to_csv('ExtractedData.csv',index=False)\n",
    "\n"
   ]
  },
  {
   "cell_type": "code",
   "execution_count": null,
   "id": "17bee01c",
   "metadata": {},
   "outputs": [],
   "source": [
    "len(ExtractedData)"
   ]
  },
  {
   "cell_type": "code",
   "execution_count": null,
   "id": "a7a429d0",
   "metadata": {},
   "outputs": [],
   "source": []
  },
  {
   "cell_type": "code",
   "execution_count": null,
   "id": "c5ed3e4a",
   "metadata": {},
   "outputs": [],
   "source": []
  },
  {
   "cell_type": "code",
   "execution_count": null,
   "id": "877bd424",
   "metadata": {},
   "outputs": [],
   "source": []
  },
  {
   "cell_type": "code",
   "execution_count": null,
   "id": "711afa66",
   "metadata": {},
   "outputs": [],
   "source": []
  },
  {
   "cell_type": "code",
   "execution_count": null,
   "id": "f204be8c",
   "metadata": {},
   "outputs": [],
   "source": []
  },
  {
   "cell_type": "code",
   "execution_count": null,
   "id": "e71f6b66",
   "metadata": {},
   "outputs": [],
   "source": []
  },
  {
   "cell_type": "code",
   "execution_count": null,
   "id": "087e5a6a",
   "metadata": {},
   "outputs": [],
   "source": []
  },
  {
   "cell_type": "code",
   "execution_count": null,
   "id": "128e4bf2",
   "metadata": {},
   "outputs": [],
   "source": []
  },
  {
   "cell_type": "code",
   "execution_count": null,
   "id": "e9670e70",
   "metadata": {},
   "outputs": [],
   "source": []
  },
  {
   "cell_type": "code",
   "execution_count": null,
   "id": "97ed3724",
   "metadata": {},
   "outputs": [],
   "source": []
  },
  {
   "cell_type": "code",
   "execution_count": null,
   "id": "cddf2a7f",
   "metadata": {},
   "outputs": [],
   "source": []
  },
  {
   "cell_type": "code",
   "execution_count": null,
   "id": "ffd74f80",
   "metadata": {},
   "outputs": [],
   "source": []
  },
  {
   "cell_type": "code",
   "execution_count": null,
   "id": "ffcac840",
   "metadata": {},
   "outputs": [],
   "source": []
  },
  {
   "cell_type": "code",
   "execution_count": null,
   "id": "1a92cf48",
   "metadata": {},
   "outputs": [],
   "source": []
  },
  {
   "cell_type": "code",
   "execution_count": null,
   "id": "8e3d6a24",
   "metadata": {},
   "outputs": [],
   "source": []
  },
  {
   "cell_type": "code",
   "execution_count": null,
   "id": "087fd7cd",
   "metadata": {},
   "outputs": [],
   "source": []
  },
  {
   "cell_type": "code",
   "execution_count": null,
   "id": "b43c5e3a",
   "metadata": {},
   "outputs": [],
   "source": []
  },
  {
   "cell_type": "code",
   "execution_count": null,
   "id": "c5bf5b69",
   "metadata": {},
   "outputs": [],
   "source": []
  },
  {
   "cell_type": "code",
   "execution_count": null,
   "id": "3459e91a",
   "metadata": {},
   "outputs": [],
   "source": []
  },
  {
   "cell_type": "code",
   "execution_count": null,
   "id": "124b368a",
   "metadata": {},
   "outputs": [],
   "source": []
  },
  {
   "cell_type": "code",
   "execution_count": null,
   "id": "7519145b",
   "metadata": {},
   "outputs": [],
   "source": []
  },
  {
   "cell_type": "code",
   "execution_count": null,
   "id": "ff9bd967",
   "metadata": {},
   "outputs": [],
   "source": []
  },
  {
   "cell_type": "code",
   "execution_count": null,
   "id": "4335011c",
   "metadata": {},
   "outputs": [],
   "source": []
  },
  {
   "cell_type": "code",
   "execution_count": null,
   "id": "7cbc5b1f",
   "metadata": {},
   "outputs": [],
   "source": []
  },
  {
   "cell_type": "code",
   "execution_count": null,
   "id": "65ffc9aa",
   "metadata": {},
   "outputs": [],
   "source": []
  },
  {
   "cell_type": "code",
   "execution_count": null,
   "id": "3bbed45e",
   "metadata": {},
   "outputs": [],
   "source": []
  },
  {
   "cell_type": "code",
   "execution_count": null,
   "id": "f1dd219c",
   "metadata": {},
   "outputs": [],
   "source": []
  },
  {
   "cell_type": "code",
   "execution_count": null,
   "id": "a21a00ee",
   "metadata": {},
   "outputs": [],
   "source": []
  },
  {
   "cell_type": "code",
   "execution_count": null,
   "id": "6f9f7089",
   "metadata": {},
   "outputs": [],
   "source": []
  },
  {
   "cell_type": "code",
   "execution_count": null,
   "id": "50b2cb31",
   "metadata": {},
   "outputs": [],
   "source": []
  },
  {
   "cell_type": "code",
   "execution_count": null,
   "id": "27fc4205",
   "metadata": {},
   "outputs": [],
   "source": []
  }
 ],
 "metadata": {
  "kernelspec": {
   "display_name": "Python 3",
   "language": "python",
   "name": "python3"
  },
  "language_info": {
   "codemirror_mode": {
    "name": "ipython",
    "version": 3
   },
   "file_extension": ".py",
   "mimetype": "text/x-python",
   "name": "python",
   "nbconvert_exporter": "python",
   "pygments_lexer": "ipython3",
   "version": "3.8.8"
  }
 },
 "nbformat": 4,
 "nbformat_minor": 5
}
